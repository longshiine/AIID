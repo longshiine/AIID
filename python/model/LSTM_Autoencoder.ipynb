{
 "cells": [
  {
   "cell_type": "markdown",
   "metadata": {},
   "source": [
    "### Mount (Local 작업시 생략!)"
   ]
  },
  {
   "cell_type": "code",
   "execution_count": 1,
   "metadata": {
    "colab": {
     "base_uri": "https://localhost:8080/"
    },
    "id": "UY1czic_5bAL",
    "outputId": "276f393d-3cce-4d46-f120-85e2b2f81789"
   },
   "outputs": [
    {
     "name": "stdout",
     "output_type": "stream",
     "text": [
      "Mounted at /content/drive\n",
      "/content/drive/MyDrive\n"
     ]
    }
   ],
   "source": [
    "from google.colab import drive\n",
    "drive.mount('/content/drive')\n",
    "%cd drive/MyDrive"
   ]
  },
  {
   "cell_type": "markdown",
   "metadata": {
    "id": "kD3WxReHP_GF"
   },
   "source": [
    "# LSTM Autoencoder for Anomaly Detection\n",
    "## Intro\n",
    "LSTM Autoencoder를 통해 Anomaly Detection하는 방법을 적용했다. Autoencoder의 경우 보통 이미지의 생성이나 복원에 많이 사용되며 이러한 구조를 이어받아 대표적인 딥러닝 생성 모델인 GAN(Generative Adversarial Network)으로 까지 이어졌는데 이러한 자기 학습 모델은 Anomaly Detection 분야에서도 널리 사용되고 있다.\n",
    "대표적으로 이미지 분야에서도 정상적인 이미지로 모델 학습 후 비정상적인 이미지를 넣어 이를 디코딩 하게 되면 정상 이미지 특성과 디코딩 된 이미지 간의 차이인 재구성 손실(Reconstruction Error)를 계산하게 되는데 이 재구성 손실이 낮은 부분은 정상(normal), 재구성 손실이 높은 부분은 이상(Abnormal)로 판단할 수 있다.\n",
    "\n",
    "이러한 Anomaly Detection은 이미지 뿐만 아니라 이제부터 살펴보고자 하는 시계열 데이터에도 적용이 가능하다. 예를 들어 특정 설비의 센서를 통해 비정상 신호를 탐지하고자 한다면 Autoencoder를 LSTM 레이어로 구성한다면 이러한 시퀀스 학습이 가능하게 된다. 이를 통해 정상 신호만을 이용하여 모델을 학습시켜 추후 비정상 신호가 모델에 입력되면 높은 reconstruction error를 나타낼 것이므로 이를 비정상 신호로 판단할 수 있게 된다.\n",
    "\n",
    "\n",
    "## Task\n",
    "시간에 따른 날씨 데이터가 추가된 5년치 실시간 실종데이터에서 실제 실종을 예측해볼 것이다.\n",
    "\n",
    "사실상 날씨만 가지고 실종을 예측하는 task"
   ]
  },
  {
   "cell_type": "markdown",
   "metadata": {
    "id": "BsbxKxMyLThz"
   },
   "source": [
    "##1. Import Library"
   ]
  },
  {
   "cell_type": "code",
   "execution_count": 2,
   "metadata": {
    "id": "RvUDa8B051un"
   },
   "outputs": [],
   "source": [
    "import pandas as pd \n",
    "import numpy as np\n",
    "import matplotlib.pyplot as plt\n",
    "import seaborn as sns\n",
    "from pylab import rcParams\n",
    "from collections import Counter\n",
    "import tensorflow as tf\n",
    "from tensorflow.keras import Model ,models, layers, optimizers, regularizers\n",
    "from tensorflow.keras.callbacks import ModelCheckpoint\n",
    "\n",
    "from sklearn.preprocessing import StandardScaler\n",
    "from sklearn.model_selection import train_test_split\n",
    "from sklearn import metrics"
   ]
  },
  {
   "cell_type": "markdown",
   "metadata": {
    "id": "6DQAMBviLW2d"
   },
   "source": [
    "## 2. Load Data"
   ]
  },
  {
   "cell_type": "code",
   "execution_count": 3,
   "metadata": {
    "colab": {
     "base_uri": "https://localhost:8080/",
     "height": 197
    },
    "id": "zBxFADxU713t",
    "outputId": "833a253c-5f77-484a-af20-c21326ab9004"
   },
   "outputs": [
    {
     "data": {
      "text/html": [
       "<div>\n",
       "<style scoped>\n",
       "    .dataframe tbody tr th:only-of-type {\n",
       "        vertical-align: middle;\n",
       "    }\n",
       "\n",
       "    .dataframe tbody tr th {\n",
       "        vertical-align: top;\n",
       "    }\n",
       "\n",
       "    .dataframe thead th {\n",
       "        text-align: right;\n",
       "    }\n",
       "</style>\n",
       "<table border=\"1\" class=\"dataframe\">\n",
       "  <thead>\n",
       "    <tr style=\"text-align: right;\">\n",
       "      <th></th>\n",
       "      <th>y</th>\n",
       "      <th>발생일시</th>\n",
       "      <th>주소</th>\n",
       "      <th>X</th>\n",
       "      <th>Y</th>\n",
       "      <th>기온(C)</th>\n",
       "      <th>강수량(mm)</th>\n",
       "      <th>풍속(m/s)</th>\n",
       "      <th>습도(%)</th>\n",
       "      <th>일조(hr)</th>\n",
       "      <th>일사(MJ/m2)</th>\n",
       "    </tr>\n",
       "  </thead>\n",
       "  <tbody>\n",
       "    <tr>\n",
       "      <th>0</th>\n",
       "      <td>0</td>\n",
       "      <td>2015-01-01 00:00</td>\n",
       "      <td>경기도 안산시 상록구 본오동</td>\n",
       "      <td>126.867721</td>\n",
       "      <td>37.283826</td>\n",
       "      <td>-6.2</td>\n",
       "      <td>0.0</td>\n",
       "      <td>4.2</td>\n",
       "      <td>0</td>\n",
       "      <td>0.0</td>\n",
       "      <td>0.0</td>\n",
       "    </tr>\n",
       "    <tr>\n",
       "      <th>1</th>\n",
       "      <td>0</td>\n",
       "      <td>2015-01-01 01:00</td>\n",
       "      <td>경기도 안산시 상록구 본오동</td>\n",
       "      <td>126.867721</td>\n",
       "      <td>37.283826</td>\n",
       "      <td>-6.2</td>\n",
       "      <td>0.0</td>\n",
       "      <td>5.2</td>\n",
       "      <td>34</td>\n",
       "      <td>0.0</td>\n",
       "      <td>0.0</td>\n",
       "    </tr>\n",
       "    <tr>\n",
       "      <th>2</th>\n",
       "      <td>0</td>\n",
       "      <td>2015-01-01 02:00</td>\n",
       "      <td>경기도 안산시 상록구 본오동</td>\n",
       "      <td>126.867721</td>\n",
       "      <td>37.283826</td>\n",
       "      <td>-6.8</td>\n",
       "      <td>0.0</td>\n",
       "      <td>4.5</td>\n",
       "      <td>38</td>\n",
       "      <td>0.0</td>\n",
       "      <td>0.0</td>\n",
       "    </tr>\n",
       "    <tr>\n",
       "      <th>3</th>\n",
       "      <td>0</td>\n",
       "      <td>2015-01-01 03:00</td>\n",
       "      <td>경기도 안산시 상록구 본오동</td>\n",
       "      <td>126.867721</td>\n",
       "      <td>37.283826</td>\n",
       "      <td>-7.1</td>\n",
       "      <td>0.0</td>\n",
       "      <td>3.7</td>\n",
       "      <td>39</td>\n",
       "      <td>0.0</td>\n",
       "      <td>0.0</td>\n",
       "    </tr>\n",
       "    <tr>\n",
       "      <th>4</th>\n",
       "      <td>0</td>\n",
       "      <td>2015-01-01 04:00</td>\n",
       "      <td>경기도 안산시 상록구 본오동</td>\n",
       "      <td>126.867721</td>\n",
       "      <td>37.283826</td>\n",
       "      <td>-7.4</td>\n",
       "      <td>0.0</td>\n",
       "      <td>4.6</td>\n",
       "      <td>38</td>\n",
       "      <td>0.0</td>\n",
       "      <td>0.0</td>\n",
       "    </tr>\n",
       "  </tbody>\n",
       "</table>\n",
       "</div>"
      ],
      "text/plain": [
       "   y              발생일시               주소  ...  습도(%)  일조(hr)  일사(MJ/m2)\n",
       "0  0  2015-01-01 00:00  경기도 안산시 상록구 본오동  ...      0     0.0        0.0\n",
       "1  0  2015-01-01 01:00  경기도 안산시 상록구 본오동  ...     34     0.0        0.0\n",
       "2  0  2015-01-01 02:00  경기도 안산시 상록구 본오동  ...     38     0.0        0.0\n",
       "3  0  2015-01-01 03:00  경기도 안산시 상록구 본오동  ...     39     0.0        0.0\n",
       "4  0  2015-01-01 04:00  경기도 안산시 상록구 본오동  ...     38     0.0        0.0\n",
       "\n",
       "[5 rows x 11 columns]"
      ]
     },
     "execution_count": 3,
     "metadata": {
      "tags": []
     },
     "output_type": "execute_result"
    }
   ],
   "source": [
    "LABELS = ['Normal', 'Break']\n",
    "\n",
    "# Data import (local 작업시 변경)\n",
    "data_location = './project/AIID/one_location.csv'\n",
    "df = pd.read_csv('./project/AIID/one_location.csv')\n",
    "df.head()\n",
    "#Counter(df['y']) # Counter({0: 43434, 1: 366})"
   ]
  },
  {
   "cell_type": "markdown",
   "metadata": {
    "id": "RSdY0hK1LZsY"
   },
   "source": [
    "## 3. Curve Shifting"
   ]
  },
  {
   "cell_type": "code",
   "execution_count": 4,
   "metadata": {
    "id": "vBCr8Z8o8I22"
   },
   "outputs": [],
   "source": [
    "sign = lambda x: (1, -1)[x < 0]\n",
    "def curve_shift(df, shift_by):\n",
    "\tvector = df['y'].copy()\n",
    "\tfor s in range(abs(shift_by)):\n",
    "\t\ttmp = vector.shift(sign(shift_by))\n",
    "\t\ttmp = tmp.fillna(0)\n",
    "\t\tvector += tmp\n",
    "\tlabelcol = 'y'\n",
    "\t# Add vector to the df\n",
    "\tdf.insert(loc=0, column=labelcol+'tmp', value=vector)\n",
    "\n",
    "\t# Remove the rows with labelcol == 1.\n",
    "\tdf = df.drop(df[df[labelcol] == 1].index)\n",
    "\n",
    "\t# Drop labelcol and rename the tmp col as labelcol\n",
    "\tdf = df.drop(labelcol, axis=1)\n",
    "\tdf = df.rename(columns={labelcol+'tmp': labelcol})\n",
    "\n",
    "\t# Make the labelcol binary\n",
    "\tdf.loc[df[labelcol] > 0, labelcol] = 1\n",
    "\n",
    "\treturn df"
   ]
  },
  {
   "cell_type": "code",
   "execution_count": 5,
   "metadata": {
    "colab": {
     "base_uri": "https://localhost:8080/",
     "height": 197
    },
    "id": "9f8Lh0f38SOE",
    "outputId": "5f58397f-6057-483c-abd2-02c770c9d133"
   },
   "outputs": [
    {
     "data": {
      "text/html": [
       "<div>\n",
       "<style scoped>\n",
       "    .dataframe tbody tr th:only-of-type {\n",
       "        vertical-align: middle;\n",
       "    }\n",
       "\n",
       "    .dataframe tbody tr th {\n",
       "        vertical-align: top;\n",
       "    }\n",
       "\n",
       "    .dataframe thead th {\n",
       "        text-align: right;\n",
       "    }\n",
       "</style>\n",
       "<table border=\"1\" class=\"dataframe\">\n",
       "  <thead>\n",
       "    <tr style=\"text-align: right;\">\n",
       "      <th></th>\n",
       "      <th>y</th>\n",
       "      <th>발생일시</th>\n",
       "      <th>주소</th>\n",
       "      <th>X</th>\n",
       "      <th>Y</th>\n",
       "      <th>기온(C)</th>\n",
       "      <th>강수량(mm)</th>\n",
       "      <th>풍속(m/s)</th>\n",
       "      <th>습도(%)</th>\n",
       "      <th>일조(hr)</th>\n",
       "      <th>일사(MJ/m2)</th>\n",
       "    </tr>\n",
       "  </thead>\n",
       "  <tbody>\n",
       "    <tr>\n",
       "      <th>0</th>\n",
       "      <td>0.0</td>\n",
       "      <td>2015-01-01 00:00</td>\n",
       "      <td>경기도 안산시 상록구 본오동</td>\n",
       "      <td>126.867721</td>\n",
       "      <td>37.283826</td>\n",
       "      <td>-6.2</td>\n",
       "      <td>0.0</td>\n",
       "      <td>4.2</td>\n",
       "      <td>0</td>\n",
       "      <td>0.0</td>\n",
       "      <td>0.0</td>\n",
       "    </tr>\n",
       "    <tr>\n",
       "      <th>1</th>\n",
       "      <td>0.0</td>\n",
       "      <td>2015-01-01 01:00</td>\n",
       "      <td>경기도 안산시 상록구 본오동</td>\n",
       "      <td>126.867721</td>\n",
       "      <td>37.283826</td>\n",
       "      <td>-6.2</td>\n",
       "      <td>0.0</td>\n",
       "      <td>5.2</td>\n",
       "      <td>34</td>\n",
       "      <td>0.0</td>\n",
       "      <td>0.0</td>\n",
       "    </tr>\n",
       "    <tr>\n",
       "      <th>2</th>\n",
       "      <td>0.0</td>\n",
       "      <td>2015-01-01 02:00</td>\n",
       "      <td>경기도 안산시 상록구 본오동</td>\n",
       "      <td>126.867721</td>\n",
       "      <td>37.283826</td>\n",
       "      <td>-6.8</td>\n",
       "      <td>0.0</td>\n",
       "      <td>4.5</td>\n",
       "      <td>38</td>\n",
       "      <td>0.0</td>\n",
       "      <td>0.0</td>\n",
       "    </tr>\n",
       "    <tr>\n",
       "      <th>3</th>\n",
       "      <td>0.0</td>\n",
       "      <td>2015-01-01 03:00</td>\n",
       "      <td>경기도 안산시 상록구 본오동</td>\n",
       "      <td>126.867721</td>\n",
       "      <td>37.283826</td>\n",
       "      <td>-7.1</td>\n",
       "      <td>0.0</td>\n",
       "      <td>3.7</td>\n",
       "      <td>39</td>\n",
       "      <td>0.0</td>\n",
       "      <td>0.0</td>\n",
       "    </tr>\n",
       "    <tr>\n",
       "      <th>4</th>\n",
       "      <td>0.0</td>\n",
       "      <td>2015-01-01 04:00</td>\n",
       "      <td>경기도 안산시 상록구 본오동</td>\n",
       "      <td>126.867721</td>\n",
       "      <td>37.283826</td>\n",
       "      <td>-7.4</td>\n",
       "      <td>0.0</td>\n",
       "      <td>4.6</td>\n",
       "      <td>38</td>\n",
       "      <td>0.0</td>\n",
       "      <td>0.0</td>\n",
       "    </tr>\n",
       "  </tbody>\n",
       "</table>\n",
       "</div>"
      ],
      "text/plain": [
       "     y              발생일시               주소  ...  습도(%)  일조(hr)  일사(MJ/m2)\n",
       "0  0.0  2015-01-01 00:00  경기도 안산시 상록구 본오동  ...      0     0.0        0.0\n",
       "1  0.0  2015-01-01 01:00  경기도 안산시 상록구 본오동  ...     34     0.0        0.0\n",
       "2  0.0  2015-01-01 02:00  경기도 안산시 상록구 본오동  ...     38     0.0        0.0\n",
       "3  0.0  2015-01-01 03:00  경기도 안산시 상록구 본오동  ...     39     0.0        0.0\n",
       "4  0.0  2015-01-01 04:00  경기도 안산시 상록구 본오동  ...     38     0.0        0.0\n",
       "\n",
       "[5 rows x 11 columns]"
      ]
     },
     "execution_count": 5,
     "metadata": {
      "tags": []
     },
     "output_type": "execute_result"
    }
   ],
   "source": [
    "shifted_df = curve_shift(df, shift_by=-5)\n",
    "shifted_df.head()"
   ]
  },
  {
   "cell_type": "code",
   "execution_count": 6,
   "metadata": {
    "id": "urKngBXm8ULB"
   },
   "outputs": [],
   "source": [
    "# drop remove columns\n",
    "shifted_df = shifted_df.drop(['발생일시','주소','X','Y'], axis=1)\n",
    "\n",
    "# x, y\n",
    "input_x = shifted_df.drop('y', axis=1).values\n",
    "input_y = shifted_df['y'].values\n",
    "\n",
    "n_features = input_x.shape[1]"
   ]
  },
  {
   "cell_type": "markdown",
   "metadata": {
    "id": "8y9TQcDZLhPj"
   },
   "source": [
    "## 4. Transform to Series Data"
   ]
  },
  {
   "cell_type": "code",
   "execution_count": 8,
   "metadata": {
    "id": "XZJ5Amew8W4S"
   },
   "outputs": [],
   "source": [
    "def temporalize(X, y, timesteps):\n",
    "\toutput_X = []\n",
    "\toutput_y = []\n",
    "\tfor i in range(len(X) - timesteps - 1):\n",
    "\t\tt = []\n",
    "\t\tfor j in range(1, timesteps + 1):\n",
    "\t\t\t# Gather the past records upto the lookback period\n",
    "\t\t\tt.append(X[[(i + j + 1)], :])\n",
    "\t\toutput_X.append(t)\n",
    "\t\toutput_y.append(y[i + timesteps + 1])\n",
    "\treturn np.squeeze(np.array(output_X)), np.array(output_y)"
   ]
  },
  {
   "cell_type": "code",
   "execution_count": 24,
   "metadata": {
    "colab": {
     "base_uri": "https://localhost:8080/"
    },
    "id": "qbwt8aX98Zj2",
    "outputId": "d82b004f-7014-4f49-eeff-7888d671fb60"
   },
   "outputs": [
    {
     "name": "stdout",
     "output_type": "stream",
     "text": [
      "(43421, 12, 6)\n"
     ]
    }
   ],
   "source": [
    "timesteps = 12\n",
    "\n",
    "# Temporalize\n",
    "x, y = temporalize(input_x, input_y, timesteps)\n",
    "print(x.shape) # (43428, 5, 6)"
   ]
  },
  {
   "cell_type": "markdown",
   "metadata": {
    "id": "PYGA1Tz7Lp-U"
   },
   "source": [
    "## 5. Split Train / Valid / Test\n",
    "이후, 훈련, 검증, 테스트 용 데이터로 분리한다.\n",
    "LSTM Autoencoder 학습 시에는 실종되지 않음(Normal, 0) 데이터만으로 학습할 것이기 때문에 데이터로 부터 실종되지 않음(Normal , 0)과 실종(Break, 1) 데이터를 분리한다."
   ]
  },
  {
   "cell_type": "code",
   "execution_count": 25,
   "metadata": {
    "colab": {
     "base_uri": "https://localhost:8080/"
    },
    "id": "pXb_SCyK8a98",
    "outputId": "0fe01aa0-0374-4953-abce-98571a54b756"
   },
   "outputs": [
    {
     "name": "stdout",
     "output_type": "stream",
     "text": [
      "27788\n",
      "6948\n",
      "8685\n"
     ]
    }
   ],
   "source": [
    "# Split into train, valid, and test \n",
    "x_train, x_test, y_train, y_test = train_test_split(x, y, test_size=0.2)\n",
    "x_train, x_valid, y_train, y_valid = train_test_split(x_train, y_train, test_size=0.2)\n",
    "\n",
    "print(len(x_train))  # 27793\n",
    "print(len(x_valid))  # 6949\n",
    "print(len(x_test))   # 8686"
   ]
  },
  {
   "cell_type": "code",
   "execution_count": 26,
   "metadata": {
    "id": "5xDjnvKz8fTN"
   },
   "outputs": [],
   "source": [
    "x_train_y0 = x_train[y_train == 0]\n",
    "x_train_y1 = x_train[y_train == 1]\n",
    "\n",
    "x_valid_y0 = x_valid[y_valid == 0]\n",
    "x_valid_y1 = x_valid[y_valid == 1]"
   ]
  },
  {
   "cell_type": "markdown",
   "metadata": {
    "id": "IJfqnxNxLuNL"
   },
   "source": [
    "## 6. Standardize\n",
    "각기 다른 데이터 특성의 표준화를 위해 z-score 정규화인 scikit-learn의 StandardScaler()를 적용하였다. 해당 함수를 적용하기 위해서는 2d 형태여야 하므로 Flatten 과정을 거친 후 스케일을 적용하였으며 이후 다시 3d 형태로 변환하였다."
   ]
  },
  {
   "cell_type": "code",
   "execution_count": 27,
   "metadata": {
    "id": "hX7Dw9I58ltv"
   },
   "outputs": [],
   "source": [
    "def flatten(X):\n",
    "    flattened_X = np.empty((X.shape[0], X.shape[2]))  # sample x features array.\n",
    "    for i in range(X.shape[0]):\n",
    "        flattened_X[i] = X[i, (X.shape[1]-1), :]\n",
    "    return(flattened_X)\n",
    "\n",
    "def scale(X, scaler):\n",
    "    for i in range(X.shape[0]):\n",
    "        X[i, :, :] = scaler.transform(X[i, :, :])\n",
    "        \n",
    "    return X"
   ]
  },
  {
   "cell_type": "code",
   "execution_count": 28,
   "metadata": {
    "id": "dqs2XpSW8mGo"
   },
   "outputs": [],
   "source": [
    "scaler = StandardScaler().fit(flatten(x_train_y0))\n",
    "\n",
    "x_train_y0_scaled = scale(x_train_y0, scaler)\n",
    "x_valid_scaled = scale(x_valid, scaler)\n",
    "x_valid_y0_scaled = scale(x_valid_y0, scaler)\n",
    "x_test_scaled = scale(x_test, scaler)"
   ]
  },
  {
   "cell_type": "markdown",
   "metadata": {
    "id": "_da8kERJL4H2"
   },
   "source": [
    "## 7. Training LSTM Autoencoder\n",
    "대칭 구조의 Staked Autoencoder 형태로 LSTM Autoencoder를 구성하여 정상 데이터로만 구성 된 데이터를 통해 총 200 epoch 학습시켰다"
   ]
  },
  {
   "cell_type": "code",
   "execution_count": 29,
   "metadata": {
    "id": "TzRKkEJE8oQf"
   },
   "outputs": [],
   "source": [
    "epochs = 200\n",
    "batch = 128\n",
    "lr = 0.001"
   ]
  },
  {
   "cell_type": "code",
   "execution_count": 30,
   "metadata": {
    "colab": {
     "base_uri": "https://localhost:8080/"
    },
    "id": "z0-XJoOfKL94",
    "outputId": "1db32a8e-f160-4d9b-8e23-c54c998103bc"
   },
   "outputs": [
    {
     "name": "stdout",
     "output_type": "stream",
     "text": [
      "Model: \"sequential_1\"\n",
      "_________________________________________________________________\n",
      "Layer (type)                 Output Shape              Param #   \n",
      "=================================================================\n",
      "lstm_4 (LSTM)                (None, 12, 32)            4992      \n",
      "_________________________________________________________________\n",
      "lstm_5 (LSTM)                (None, 16)                3136      \n",
      "_________________________________________________________________\n",
      "repeat_vector_1 (RepeatVecto (None, 12, 16)            0         \n",
      "_________________________________________________________________\n",
      "lstm_6 (LSTM)                (None, 12, 16)            2112      \n",
      "_________________________________________________________________\n",
      "lstm_7 (LSTM)                (None, 12, 32)            6272      \n",
      "_________________________________________________________________\n",
      "time_distributed_1 (TimeDist (None, 12, 6)             198       \n",
      "=================================================================\n",
      "Total params: 16,710\n",
      "Trainable params: 16,710\n",
      "Non-trainable params: 0\n",
      "_________________________________________________________________\n"
     ]
    }
   ],
   "source": [
    "lstm_ae = models.Sequential()\n",
    "# Encoder\n",
    "lstm_ae.add(layers.LSTM(32, activation='relu', input_shape=(timesteps, n_features), return_sequences=True))\n",
    "lstm_ae.add(layers.LSTM(16, activation='relu', return_sequences=False))\n",
    "lstm_ae.add(layers.RepeatVector(timesteps))\n",
    "# Decoder\n",
    "lstm_ae.add(layers.LSTM(16, activation='relu', return_sequences=True))\n",
    "lstm_ae.add(layers.LSTM(32, activation='relu', return_sequences=True))\n",
    "lstm_ae.add(layers.TimeDistributed(layers.Dense(n_features)))\n",
    "\n",
    "lstm_ae.summary()"
   ]
  },
  {
   "cell_type": "code",
   "execution_count": 31,
   "metadata": {
    "colab": {
     "base_uri": "https://localhost:8080/"
    },
    "id": "YFxvdi57KNmY",
    "outputId": "dad3221d-ade6-4907-cccd-ae0936b23b5b"
   },
   "outputs": [
    {
     "name": "stdout",
     "output_type": "stream",
     "text": [
      "Epoch 1/200\n",
      "209/209 [==============================] - 10s 28ms/step - loss: 0.7845 - val_loss: 0.3149\n",
      "Epoch 2/200\n",
      "209/209 [==============================] - 5s 24ms/step - loss: 0.2863 - val_loss: 0.2249\n",
      "Epoch 3/200\n",
      "209/209 [==============================] - 5s 25ms/step - loss: 0.2239 - val_loss: 0.1975\n",
      "Epoch 4/200\n",
      "209/209 [==============================] - 5s 25ms/step - loss: 0.2103 - val_loss: 0.1920\n",
      "Epoch 5/200\n",
      "209/209 [==============================] - 5s 25ms/step - loss: 0.1833 - val_loss: 0.1726\n",
      "Epoch 6/200\n",
      "209/209 [==============================] - 5s 26ms/step - loss: 0.1729 - val_loss: 0.1729\n",
      "Epoch 7/200\n",
      "209/209 [==============================] - 5s 26ms/step - loss: 0.1698 - val_loss: 0.1570\n",
      "Epoch 8/200\n",
      "209/209 [==============================] - 5s 26ms/step - loss: 0.1583 - val_loss: 0.1593\n",
      "Epoch 9/200\n",
      "209/209 [==============================] - 5s 25ms/step - loss: 0.1533 - val_loss: 0.1505\n",
      "Epoch 10/200\n",
      "209/209 [==============================] - 5s 26ms/step - loss: 0.1461 - val_loss: 0.1521\n",
      "Epoch 11/200\n",
      "209/209 [==============================] - 5s 25ms/step - loss: 0.1412 - val_loss: 0.1386\n",
      "Epoch 12/200\n",
      "209/209 [==============================] - 5s 25ms/step - loss: 0.1330 - val_loss: 0.1366\n",
      "Epoch 13/200\n",
      "209/209 [==============================] - 5s 25ms/step - loss: 0.1355 - val_loss: 0.1438\n",
      "Epoch 14/200\n",
      "209/209 [==============================] - 5s 25ms/step - loss: 0.1564 - val_loss: 0.1556\n",
      "Epoch 15/200\n",
      "209/209 [==============================] - 5s 25ms/step - loss: 0.1374 - val_loss: 0.1417\n",
      "Epoch 16/200\n",
      "209/209 [==============================] - 5s 25ms/step - loss: 0.1472 - val_loss: 0.1285\n",
      "Epoch 17/200\n",
      "209/209 [==============================] - 5s 25ms/step - loss: 0.1215 - val_loss: 0.1337\n",
      "Epoch 18/200\n",
      "209/209 [==============================] - 5s 25ms/step - loss: 0.1302 - val_loss: 0.1287\n",
      "Epoch 19/200\n",
      "209/209 [==============================] - 5s 25ms/step - loss: 0.1239 - val_loss: 0.1318\n",
      "Epoch 20/200\n",
      "209/209 [==============================] - 5s 25ms/step - loss: 0.1264 - val_loss: 0.1116\n",
      "Epoch 21/200\n",
      "209/209 [==============================] - 5s 25ms/step - loss: 0.1063 - val_loss: 0.1415\n",
      "Epoch 22/200\n",
      "209/209 [==============================] - 5s 26ms/step - loss: 0.1282 - val_loss: 0.1147\n",
      "Epoch 23/200\n",
      "209/209 [==============================] - 5s 26ms/step - loss: 0.1243 - val_loss: 0.1172\n",
      "Epoch 24/200\n",
      "209/209 [==============================] - 5s 26ms/step - loss: 0.1314 - val_loss: 0.1127\n",
      "Epoch 25/200\n",
      "209/209 [==============================] - 5s 25ms/step - loss: 0.1159 - val_loss: 0.1106\n",
      "Epoch 26/200\n",
      "209/209 [==============================] - 5s 26ms/step - loss: 0.1070 - val_loss: 0.1055\n",
      "Epoch 27/200\n",
      "209/209 [==============================] - 5s 25ms/step - loss: 0.1028 - val_loss: 0.1051\n",
      "Epoch 28/200\n",
      "209/209 [==============================] - 5s 25ms/step - loss: 0.1118 - val_loss: 0.1053\n",
      "Epoch 29/200\n",
      "209/209 [==============================] - 5s 25ms/step - loss: 0.1135 - val_loss: 0.1115\n",
      "Epoch 30/200\n",
      "209/209 [==============================] - 5s 25ms/step - loss: 0.1044 - val_loss: 0.1096\n",
      "Epoch 31/200\n",
      "209/209 [==============================] - 5s 25ms/step - loss: 0.1007 - val_loss: 0.1071\n",
      "Epoch 32/200\n",
      "209/209 [==============================] - 5s 25ms/step - loss: 0.1033 - val_loss: 0.1013\n",
      "Epoch 33/200\n",
      "209/209 [==============================] - 5s 25ms/step - loss: 0.0992 - val_loss: 0.0981\n",
      "Epoch 34/200\n",
      "209/209 [==============================] - 5s 25ms/step - loss: 0.0916 - val_loss: 0.1197\n",
      "Epoch 35/200\n",
      "209/209 [==============================] - 5s 25ms/step - loss: 0.1054 - val_loss: 0.1065\n",
      "Epoch 36/200\n",
      "209/209 [==============================] - 5s 25ms/step - loss: 0.0923 - val_loss: 0.0976\n",
      "Epoch 37/200\n",
      "209/209 [==============================] - 5s 25ms/step - loss: 0.0878 - val_loss: 0.0967\n",
      "Epoch 38/200\n",
      "209/209 [==============================] - 5s 25ms/step - loss: 0.0948 - val_loss: 0.1074\n",
      "Epoch 39/200\n",
      "209/209 [==============================] - 5s 25ms/step - loss: 0.1128 - val_loss: 0.1025\n",
      "Epoch 40/200\n",
      "209/209 [==============================] - 5s 25ms/step - loss: 0.0951 - val_loss: 0.1028\n",
      "Epoch 41/200\n",
      "209/209 [==============================] - 5s 25ms/step - loss: 0.0959 - val_loss: 0.0961\n",
      "Epoch 42/200\n",
      "209/209 [==============================] - 5s 25ms/step - loss: 0.0969 - val_loss: 0.0951\n",
      "Epoch 43/200\n",
      "209/209 [==============================] - 5s 25ms/step - loss: 0.0973 - val_loss: 0.0928\n",
      "Epoch 44/200\n",
      "209/209 [==============================] - 5s 25ms/step - loss: 0.0856 - val_loss: 0.0906\n",
      "Epoch 45/200\n",
      "209/209 [==============================] - 5s 26ms/step - loss: 0.0837 - val_loss: 0.1010\n",
      "Epoch 46/200\n",
      "209/209 [==============================] - 5s 25ms/step - loss: 0.0878 - val_loss: 0.0914\n",
      "Epoch 47/200\n",
      "209/209 [==============================] - 5s 25ms/step - loss: 0.0866 - val_loss: 0.0873\n",
      "Epoch 48/200\n",
      "209/209 [==============================] - 5s 25ms/step - loss: 0.0904 - val_loss: 0.1251\n",
      "Epoch 49/200\n",
      "209/209 [==============================] - 5s 25ms/step - loss: 0.0954 - val_loss: 0.0971\n",
      "Epoch 50/200\n",
      "209/209 [==============================] - 5s 25ms/step - loss: 0.0871 - val_loss: 0.0934\n",
      "Epoch 51/200\n",
      "209/209 [==============================] - 5s 25ms/step - loss: 0.0807 - val_loss: 0.0874\n",
      "Epoch 52/200\n",
      "209/209 [==============================] - 5s 25ms/step - loss: 0.0864 - val_loss: 0.0846\n",
      "Epoch 53/200\n",
      "209/209 [==============================] - 5s 25ms/step - loss: 0.0778 - val_loss: 0.0901\n",
      "Epoch 54/200\n",
      "209/209 [==============================] - 5s 26ms/step - loss: 0.0818 - val_loss: 0.1211\n",
      "Epoch 55/200\n",
      "209/209 [==============================] - 5s 26ms/step - loss: 0.0998 - val_loss: 0.0972\n",
      "Epoch 56/200\n",
      "209/209 [==============================] - 5s 26ms/step - loss: 0.1011 - val_loss: 0.0868\n",
      "Epoch 57/200\n",
      "209/209 [==============================] - 5s 26ms/step - loss: 0.0938 - val_loss: 0.0863\n",
      "Epoch 58/200\n",
      "209/209 [==============================] - 6s 27ms/step - loss: 0.0797 - val_loss: 0.0805\n",
      "Epoch 59/200\n",
      "209/209 [==============================] - 5s 26ms/step - loss: 0.0721 - val_loss: 0.0812\n",
      "Epoch 60/200\n",
      "209/209 [==============================] - 5s 26ms/step - loss: 0.0803 - val_loss: 0.0902\n",
      "Epoch 61/200\n",
      "209/209 [==============================] - 5s 26ms/step - loss: 0.0767 - val_loss: 0.0866\n",
      "Epoch 62/200\n",
      "209/209 [==============================] - 5s 26ms/step - loss: 0.0785 - val_loss: 0.0939\n",
      "Epoch 63/200\n",
      "209/209 [==============================] - 5s 25ms/step - loss: 0.0861 - val_loss: 0.0785\n",
      "Epoch 64/200\n",
      "209/209 [==============================] - 5s 25ms/step - loss: 0.0733 - val_loss: 0.0787\n",
      "Epoch 65/200\n",
      "209/209 [==============================] - 5s 25ms/step - loss: 0.0717 - val_loss: 0.0803\n",
      "Epoch 66/200\n",
      "209/209 [==============================] - 5s 26ms/step - loss: 0.0713 - val_loss: 0.0771\n",
      "Epoch 67/200\n",
      "209/209 [==============================] - 5s 26ms/step - loss: 0.0733 - val_loss: 0.0791\n",
      "Epoch 68/200\n",
      "209/209 [==============================] - 5s 26ms/step - loss: 0.0732 - val_loss: 0.0780\n",
      "Epoch 69/200\n",
      "209/209 [==============================] - 5s 26ms/step - loss: 0.0739 - val_loss: 0.0797\n",
      "Epoch 70/200\n",
      "209/209 [==============================] - 5s 25ms/step - loss: 0.0758 - val_loss: 0.0764\n",
      "Epoch 71/200\n",
      "209/209 [==============================] - 5s 26ms/step - loss: 0.0686 - val_loss: 0.0768\n",
      "Epoch 72/200\n",
      "209/209 [==============================] - 5s 25ms/step - loss: 0.0739 - val_loss: 0.0944\n",
      "Epoch 73/200\n",
      "209/209 [==============================] - 5s 25ms/step - loss: 0.0916 - val_loss: 0.0821\n",
      "Epoch 74/200\n",
      "209/209 [==============================] - 5s 25ms/step - loss: 0.0819 - val_loss: 0.0781\n",
      "Epoch 75/200\n",
      "209/209 [==============================] - 5s 25ms/step - loss: 0.0717 - val_loss: 0.0797\n",
      "Epoch 76/200\n",
      "209/209 [==============================] - 5s 25ms/step - loss: 0.0751 - val_loss: 0.0735\n",
      "Epoch 77/200\n",
      "209/209 [==============================] - 5s 25ms/step - loss: 0.0671 - val_loss: 0.0747\n",
      "Epoch 78/200\n",
      "209/209 [==============================] - 5s 26ms/step - loss: 0.0717 - val_loss: 0.0812\n",
      "Epoch 79/200\n",
      "209/209 [==============================] - 5s 26ms/step - loss: 0.0698 - val_loss: 0.0746\n",
      "Epoch 80/200\n",
      "209/209 [==============================] - 5s 26ms/step - loss: 0.0669 - val_loss: 0.0748\n",
      "Epoch 81/200\n",
      "209/209 [==============================] - 5s 26ms/step - loss: 0.0696 - val_loss: 0.0726\n",
      "Epoch 82/200\n",
      "209/209 [==============================] - 5s 26ms/step - loss: 0.0641 - val_loss: 0.0723\n",
      "Epoch 83/200\n",
      "209/209 [==============================] - 5s 25ms/step - loss: 0.0674 - val_loss: 0.0821\n",
      "Epoch 84/200\n",
      "209/209 [==============================] - 5s 26ms/step - loss: 0.0748 - val_loss: 0.0740\n",
      "Epoch 85/200\n",
      "209/209 [==============================] - 5s 26ms/step - loss: 0.0667 - val_loss: 0.0776\n",
      "Epoch 86/200\n",
      "209/209 [==============================] - 6s 26ms/step - loss: 0.0671 - val_loss: 0.0740\n",
      "Epoch 87/200\n",
      "209/209 [==============================] - 5s 25ms/step - loss: 0.0662 - val_loss: 0.0838\n",
      "Epoch 88/200\n",
      "209/209 [==============================] - 5s 25ms/step - loss: 0.0770 - val_loss: 0.0824\n",
      "Epoch 89/200\n",
      "209/209 [==============================] - 5s 25ms/step - loss: 0.0697 - val_loss: 0.0700\n",
      "Epoch 90/200\n",
      "209/209 [==============================] - 5s 25ms/step - loss: 0.0667 - val_loss: 0.0709\n",
      "Epoch 91/200\n",
      "209/209 [==============================] - 5s 26ms/step - loss: 0.0647 - val_loss: 0.1103\n",
      "Epoch 92/200\n",
      "209/209 [==============================] - 5s 26ms/step - loss: 0.1226 - val_loss: 0.1672\n",
      "Epoch 93/200\n",
      "209/209 [==============================] - 5s 26ms/step - loss: 0.1218 - val_loss: 0.0864\n",
      "Epoch 94/200\n",
      "209/209 [==============================] - 5s 26ms/step - loss: 0.0784 - val_loss: 0.0859\n",
      "Epoch 95/200\n",
      "209/209 [==============================] - 5s 26ms/step - loss: 0.0816 - val_loss: 0.0721\n",
      "Epoch 96/200\n",
      "209/209 [==============================] - 5s 26ms/step - loss: 0.0676 - val_loss: 0.0713\n",
      "Epoch 97/200\n",
      "209/209 [==============================] - 5s 26ms/step - loss: 0.0721 - val_loss: 0.0704\n",
      "Epoch 98/200\n",
      "209/209 [==============================] - 5s 25ms/step - loss: 0.0671 - val_loss: 0.0704\n",
      "Epoch 99/200\n",
      "209/209 [==============================] - 5s 25ms/step - loss: 0.0692 - val_loss: 0.0696\n",
      "Epoch 100/200\n",
      "209/209 [==============================] - 5s 26ms/step - loss: 0.0640 - val_loss: 0.0666\n",
      "Epoch 101/200\n",
      "209/209 [==============================] - 5s 26ms/step - loss: 0.0639 - val_loss: 0.0684\n",
      "Epoch 102/200\n",
      "209/209 [==============================] - 5s 26ms/step - loss: 0.0657 - val_loss: 0.0665\n",
      "Epoch 103/200\n",
      "209/209 [==============================] - 5s 26ms/step - loss: 0.0639 - val_loss: 0.0682\n",
      "Epoch 104/200\n",
      "209/209 [==============================] - 5s 26ms/step - loss: 0.0608 - val_loss: 0.0662\n",
      "Epoch 105/200\n",
      "209/209 [==============================] - 5s 26ms/step - loss: 0.0628 - val_loss: 0.0721\n",
      "Epoch 106/200\n",
      "209/209 [==============================] - 5s 26ms/step - loss: 0.0691 - val_loss: 0.0710\n",
      "Epoch 107/200\n",
      "209/209 [==============================] - 5s 25ms/step - loss: 0.0669 - val_loss: 0.0652\n",
      "Epoch 108/200\n",
      "209/209 [==============================] - 5s 26ms/step - loss: 0.0620 - val_loss: 0.0783\n",
      "Epoch 109/200\n",
      "209/209 [==============================] - 5s 26ms/step - loss: 0.0650 - val_loss: 0.0703\n",
      "Epoch 110/200\n",
      "209/209 [==============================] - 5s 25ms/step - loss: 0.0690 - val_loss: 0.0729\n",
      "Epoch 111/200\n",
      "209/209 [==============================] - 5s 25ms/step - loss: 0.1062 - val_loss: 0.0710\n",
      "Epoch 112/200\n",
      "209/209 [==============================] - 6s 27ms/step - loss: 0.0688 - val_loss: 0.0743\n",
      "Epoch 113/200\n",
      "209/209 [==============================] - 6s 28ms/step - loss: 0.0636 - val_loss: 0.0650\n",
      "Epoch 114/200\n",
      "209/209 [==============================] - 6s 28ms/step - loss: 0.0599 - val_loss: 0.0639\n",
      "Epoch 115/200\n",
      "209/209 [==============================] - 5s 26ms/step - loss: 0.0605 - val_loss: 0.0694\n",
      "Epoch 116/200\n",
      "209/209 [==============================] - 5s 26ms/step - loss: 0.0617 - val_loss: 0.0658\n",
      "Epoch 117/200\n",
      "209/209 [==============================] - 5s 25ms/step - loss: 0.0601 - val_loss: 0.0653\n",
      "Epoch 118/200\n",
      "209/209 [==============================] - 5s 26ms/step - loss: 0.0597 - val_loss: 0.0777\n",
      "Epoch 119/200\n",
      "209/209 [==============================] - 5s 26ms/step - loss: 0.0662 - val_loss: 0.0996\n",
      "Epoch 120/200\n",
      "209/209 [==============================] - 5s 26ms/step - loss: 0.0955 - val_loss: 0.0742\n",
      "Epoch 121/200\n",
      "209/209 [==============================] - 5s 26ms/step - loss: 0.0725 - val_loss: 0.0708\n",
      "Epoch 122/200\n",
      "209/209 [==============================] - 5s 25ms/step - loss: 0.0607 - val_loss: 0.0632\n",
      "Epoch 123/200\n",
      "209/209 [==============================] - 5s 26ms/step - loss: 0.0606 - val_loss: 0.0623\n",
      "Epoch 124/200\n",
      "209/209 [==============================] - 5s 26ms/step - loss: 0.0632 - val_loss: 0.0691\n",
      "Epoch 125/200\n",
      "209/209 [==============================] - 5s 26ms/step - loss: 0.0646 - val_loss: 0.0622\n",
      "Epoch 126/200\n",
      "209/209 [==============================] - 5s 26ms/step - loss: 0.0575 - val_loss: 0.0625\n",
      "Epoch 127/200\n",
      "209/209 [==============================] - 5s 26ms/step - loss: 0.0624 - val_loss: 0.0614\n",
      "Epoch 128/200\n",
      "209/209 [==============================] - 5s 25ms/step - loss: 0.0580 - val_loss: 0.0625\n",
      "Epoch 129/200\n",
      "209/209 [==============================] - 5s 25ms/step - loss: 0.0584 - val_loss: 0.0632\n",
      "Epoch 130/200\n",
      "209/209 [==============================] - 5s 25ms/step - loss: 0.0571 - val_loss: 0.0615\n",
      "Epoch 131/200\n",
      "209/209 [==============================] - 5s 26ms/step - loss: 0.0570 - val_loss: 0.0622\n",
      "Epoch 132/200\n",
      "209/209 [==============================] - 5s 25ms/step - loss: 0.0578 - val_loss: 0.0613\n",
      "Epoch 133/200\n",
      "209/209 [==============================] - 5s 26ms/step - loss: 0.0579 - val_loss: 0.0666\n",
      "Epoch 134/200\n",
      "209/209 [==============================] - 5s 26ms/step - loss: 0.0695 - val_loss: 0.0600\n",
      "Epoch 135/200\n",
      "209/209 [==============================] - 5s 26ms/step - loss: 0.0560 - val_loss: 0.0616\n",
      "Epoch 136/200\n",
      "209/209 [==============================] - 5s 26ms/step - loss: 0.0556 - val_loss: 0.0602\n",
      "Epoch 137/200\n",
      "209/209 [==============================] - 5s 26ms/step - loss: 0.0623 - val_loss: 0.1280\n",
      "Epoch 138/200\n",
      "209/209 [==============================] - 6s 27ms/step - loss: 0.0830 - val_loss: 0.0626\n",
      "Epoch 139/200\n",
      "209/209 [==============================] - 5s 26ms/step - loss: 0.0589 - val_loss: 0.0665\n",
      "Epoch 140/200\n",
      "209/209 [==============================] - 5s 26ms/step - loss: 0.0588 - val_loss: 0.0730\n",
      "Epoch 141/200\n",
      "209/209 [==============================] - 5s 26ms/step - loss: 0.0572 - val_loss: 0.0650\n",
      "Epoch 142/200\n",
      "209/209 [==============================] - 5s 26ms/step - loss: 0.0548 - val_loss: 0.0624\n",
      "Epoch 143/200\n",
      "209/209 [==============================] - 5s 26ms/step - loss: 0.0667 - val_loss: 0.0748\n",
      "Epoch 144/200\n",
      "209/209 [==============================] - 6s 26ms/step - loss: 0.0659 - val_loss: 0.0592\n",
      "Epoch 145/200\n",
      "209/209 [==============================] - 6s 27ms/step - loss: 0.0533 - val_loss: 0.0587\n",
      "Epoch 146/200\n",
      "209/209 [==============================] - 5s 26ms/step - loss: 0.0529 - val_loss: 0.0574\n",
      "Epoch 147/200\n",
      "209/209 [==============================] - 5s 26ms/step - loss: 0.0560 - val_loss: 0.0575\n",
      "Epoch 148/200\n",
      "209/209 [==============================] - 6s 26ms/step - loss: 0.0530 - val_loss: 0.0586\n",
      "Epoch 149/200\n",
      "209/209 [==============================] - 5s 26ms/step - loss: 0.0535 - val_loss: 0.1314\n",
      "Epoch 150/200\n",
      "209/209 [==============================] - 5s 26ms/step - loss: 0.0989 - val_loss: 0.0899\n",
      "Epoch 151/200\n",
      "209/209 [==============================] - 6s 26ms/step - loss: 0.0699 - val_loss: 0.0628\n",
      "Epoch 152/200\n",
      "209/209 [==============================] - 5s 26ms/step - loss: 0.0594 - val_loss: 0.0757\n",
      "Epoch 153/200\n",
      "209/209 [==============================] - 5s 26ms/step - loss: 0.0582 - val_loss: 0.0682\n",
      "Epoch 154/200\n",
      "209/209 [==============================] - 5s 26ms/step - loss: 0.0603 - val_loss: 0.0649\n",
      "Epoch 155/200\n",
      "209/209 [==============================] - 5s 26ms/step - loss: 0.0549 - val_loss: 0.0593\n",
      "Epoch 156/200\n",
      "209/209 [==============================] - 5s 26ms/step - loss: 0.0584 - val_loss: 0.0589\n",
      "Epoch 157/200\n",
      "209/209 [==============================] - 5s 26ms/step - loss: 0.0553 - val_loss: 0.0573\n",
      "Epoch 158/200\n",
      "209/209 [==============================] - 5s 26ms/step - loss: 0.0544 - val_loss: 0.0557\n",
      "Epoch 159/200\n",
      "209/209 [==============================] - 6s 26ms/step - loss: 0.0511 - val_loss: 0.0553\n",
      "Epoch 160/200\n",
      "209/209 [==============================] - 6s 27ms/step - loss: 0.0528 - val_loss: 0.0557\n",
      "Epoch 161/200\n",
      "209/209 [==============================] - 5s 26ms/step - loss: 0.0512 - val_loss: 0.0559\n",
      "Epoch 162/200\n",
      "209/209 [==============================] - 5s 26ms/step - loss: 0.0541 - val_loss: 0.0610\n",
      "Epoch 163/200\n",
      "209/209 [==============================] - 5s 26ms/step - loss: 0.0707 - val_loss: 0.0687\n",
      "Epoch 164/200\n",
      "209/209 [==============================] - 5s 26ms/step - loss: 0.0577 - val_loss: 0.0664\n",
      "Epoch 165/200\n",
      "209/209 [==============================] - 5s 26ms/step - loss: 0.0560 - val_loss: 0.0655\n",
      "Epoch 166/200\n",
      "209/209 [==============================] - 5s 26ms/step - loss: 0.0592 - val_loss: 0.0550\n",
      "Epoch 167/200\n",
      "209/209 [==============================] - 5s 26ms/step - loss: 0.0530 - val_loss: 0.0541\n",
      "Epoch 168/200\n",
      "209/209 [==============================] - 5s 26ms/step - loss: 0.0502 - val_loss: 0.0529\n",
      "Epoch 169/200\n",
      "209/209 [==============================] - 6s 27ms/step - loss: 0.0523 - val_loss: 0.0948\n",
      "Epoch 170/200\n",
      "209/209 [==============================] - 6s 27ms/step - loss: 0.1165 - val_loss: 0.0626\n",
      "Epoch 171/200\n",
      "209/209 [==============================] - 6s 27ms/step - loss: 0.0545 - val_loss: 0.0538\n",
      "Epoch 172/200\n",
      "209/209 [==============================] - 5s 26ms/step - loss: 0.0503 - val_loss: 0.0543\n",
      "Epoch 173/200\n",
      "209/209 [==============================] - 5s 26ms/step - loss: 0.0501 - val_loss: 0.0528\n",
      "Epoch 174/200\n",
      "209/209 [==============================] - 5s 26ms/step - loss: 0.0489 - val_loss: 0.0578\n",
      "Epoch 175/200\n",
      "209/209 [==============================] - 5s 26ms/step - loss: 0.0555 - val_loss: 0.0523\n",
      "Epoch 176/200\n",
      "209/209 [==============================] - 5s 26ms/step - loss: 0.0512 - val_loss: 0.0533\n",
      "Epoch 177/200\n",
      "209/209 [==============================] - 5s 26ms/step - loss: 0.0568 - val_loss: 0.0813\n",
      "Epoch 178/200\n",
      "209/209 [==============================] - 5s 26ms/step - loss: 0.0669 - val_loss: 0.0550\n",
      "Epoch 179/200\n",
      "209/209 [==============================] - 5s 26ms/step - loss: 0.0498 - val_loss: 0.0528\n",
      "Epoch 180/200\n",
      "209/209 [==============================] - 5s 26ms/step - loss: 0.0510 - val_loss: 0.0526\n",
      "Epoch 181/200\n",
      "209/209 [==============================] - 5s 26ms/step - loss: 0.0493 - val_loss: 0.0542\n",
      "Epoch 182/200\n",
      "209/209 [==============================] - 5s 26ms/step - loss: 0.0491 - val_loss: 0.0517\n",
      "Epoch 183/200\n",
      "209/209 [==============================] - 5s 26ms/step - loss: 0.0481 - val_loss: 0.0519\n",
      "Epoch 184/200\n",
      "209/209 [==============================] - 5s 26ms/step - loss: 0.0473 - val_loss: 0.0517\n",
      "Epoch 185/200\n",
      "209/209 [==============================] - 6s 27ms/step - loss: 0.0552 - val_loss: 0.0528\n",
      "Epoch 186/200\n",
      "209/209 [==============================] - 6s 27ms/step - loss: 0.0561 - val_loss: 0.0704\n",
      "Epoch 187/200\n",
      "209/209 [==============================] - 5s 26ms/step - loss: 0.0676 - val_loss: 0.0536\n",
      "Epoch 188/200\n",
      "209/209 [==============================] - 5s 26ms/step - loss: 0.0532 - val_loss: 0.0522\n",
      "Epoch 189/200\n",
      "209/209 [==============================] - 5s 26ms/step - loss: 0.0587 - val_loss: 0.0523\n",
      "Epoch 190/200\n",
      "209/209 [==============================] - 5s 26ms/step - loss: 0.0508 - val_loss: 0.0527\n",
      "Epoch 191/200\n",
      "209/209 [==============================] - 5s 26ms/step - loss: 0.0496 - val_loss: 0.0506\n",
      "Epoch 192/200\n",
      "209/209 [==============================] - 6s 26ms/step - loss: 0.0476 - val_loss: 0.0508\n",
      "Epoch 193/200\n",
      "209/209 [==============================] - 6s 26ms/step - loss: 0.0468 - val_loss: 0.0530\n",
      "Epoch 194/200\n",
      "209/209 [==============================] - 5s 26ms/step - loss: 0.0489 - val_loss: 0.0515\n",
      "Epoch 195/200\n",
      "209/209 [==============================] - 5s 26ms/step - loss: 0.0476 - val_loss: 0.0524\n",
      "Epoch 196/200\n",
      "209/209 [==============================] - 5s 26ms/step - loss: 0.0476 - val_loss: 0.0501\n",
      "Epoch 197/200\n",
      "209/209 [==============================] - 5s 26ms/step - loss: 0.0459 - val_loss: 0.0562\n",
      "Epoch 198/200\n",
      "209/209 [==============================] - 5s 26ms/step - loss: 0.0513 - val_loss: 0.0532\n",
      "Epoch 199/200\n",
      "209/209 [==============================] - 5s 26ms/step - loss: 0.0530 - val_loss: 0.0888\n",
      "Epoch 200/200\n",
      "209/209 [==============================] - 5s 26ms/step - loss: 0.0661 - val_loss: 0.0525\n"
     ]
    }
   ],
   "source": [
    "# compile\n",
    "lstm_ae.compile(loss='mse', optimizer=optimizers.Adam(lr))\n",
    "\n",
    "# fit\n",
    "history = lstm_ae.fit(x_train_y0_scaled, x_train_y0_scaled,\n",
    "                     epochs=epochs, batch_size=batch,\n",
    "                     validation_data=(x_valid_y0_scaled, x_valid_y0_scaled))\n"
   ]
  },
  {
   "cell_type": "code",
   "execution_count": 32,
   "metadata": {
    "colab": {
     "base_uri": "https://localhost:8080/",
     "height": 278
    },
    "id": "hY8Z9OHZKXG6",
    "outputId": "90c4d199-3bc7-4537-b67f-a905fad491e6"
   },
   "outputs": [
    {
     "data": {
      "image/png": "[encoded data removed]",
      "text/plain": [
       "<Figure size 432x288 with 1 Axes>"
      ]
     },
     "metadata": {
      "needs_background": "light",
      "tags": []
     },
     "output_type": "display_data"
    }
   ],
   "source": [
    "plt.plot(history.history['loss'], label='train loss')\n",
    "plt.plot(history.history['val_loss'], label='valid loss')\n",
    "plt.legend()\n",
    "plt.xlabel('Epoch'); plt.ylabel('loss')\n",
    "plt.show()"
   ]
  },
  {
   "cell_type": "markdown",
   "metadata": {
    "id": "MU4VNb_GMSVu"
   },
   "source": [
    "## 8. Threshold by Precision Recall Curve\n",
    "normal과 break를 구분하기 위한 threshold를 지정하기 위해 precision recall curve를 적용한다. 주의해야할 것은 디코딩 된 재구성 결과가 아닌 재구성 손실(reconstruction error)와 실제 라벨 값을 비교한다는 것이다."
   ]
  },
  {
   "cell_type": "code",
   "execution_count": 33,
   "metadata": {
    "colab": {
     "base_uri": "https://localhost:8080/",
     "height": 334
    },
    "id": "9skqqcLaMOgl",
    "outputId": "e952393f-99d8-4b56-dfec-3f56eb9b1474"
   },
   "outputs": [
    {
     "data": {
      "image/png": "[encoded data removed]",
      "text/plain": [
       "<Figure size 576x360 with 1 Axes>"
      ]
     },
     "metadata": {
      "needs_background": "light",
      "tags": []
     },
     "output_type": "display_data"
    }
   ],
   "source": [
    "valid_x_predictions = lstm_ae.predict(x_valid_scaled)\n",
    "mse = np.mean(np.power(flatten(x_valid_scaled) - flatten(valid_x_predictions), 2), axis=1)\n",
    "\n",
    "error_df = pd.DataFrame({'Reconstruction_error':mse, \n",
    "                         'True_class':list(y_valid)})\n",
    "precision_rt, recall_rt, threshold_rt = metrics.precision_recall_curve(error_df['True_class'], error_df['Reconstruction_error'])\n",
    "\n",
    "plt.figure(figsize=(8,5))\n",
    "plt.plot(threshold_rt, precision_rt[1:], label='Precision')\n",
    "plt.plot(threshold_rt, recall_rt[1:], label='Recall')\n",
    "plt.xlabel('Threshold'); plt.ylabel('Precision/Recall')\n",
    "plt.legend()\n",
    "plt.show()"
   ]
  },
  {
   "cell_type": "markdown",
   "metadata": {
    "id": "k3R_oyzcMXO7"
   },
   "source": [
    "여기서 threshold의 경우 Recall과 Precision의 값이 교차되는 지점을 최적의 threshold 지점으로 잡았다.\n",
    "여기서 최적의 threshold는 0.022이다."
   ]
  },
  {
   "cell_type": "code",
   "execution_count": 34,
   "metadata": {
    "colab": {
     "base_uri": "https://localhost:8080/"
    },
    "id": "dMefToQOKhIt",
    "outputId": "a40d9fb1-0bcd-4b16-992f-260ac0989094"
   },
   "outputs": [
    {
     "name": "stdout",
     "output_type": "stream",
     "text": [
      "precision:  0.02564102564102564 , recall:  0.02564102564102564\n",
      "threshold:  0.1592179523676616\n"
     ]
    }
   ],
   "source": [
    "# best position of threshold\n",
    "index_cnt = [cnt for cnt, (p, r) in enumerate(zip(precision_rt, recall_rt)) if p==r][0]\n",
    "print('precision: ',precision_rt[index_cnt],', recall: ',recall_rt[index_cnt])\n",
    "\n",
    "# fixed Threshold\n",
    "threshold_fixed = threshold_rt[index_cnt]\n",
    "print('threshold: ',threshold_fixed)"
   ]
  },
  {
   "cell_type": "markdown",
   "metadata": {
    "id": "45BWtDzTMbf7"
   },
   "source": [
    "## 9. Predict Test\n",
    "이제 테스트 셋에 적용해볼 차례이다. 학습하였던 LSTM Autoencoder 모델을 통해 테스트 셋을 예측 후 재구성 손실을 계산한다. 그 후 위에서 찾은 threshold를 적용하여 Normal과 Break를 구분한다."
   ]
  },
  {
   "cell_type": "code",
   "execution_count": 35,
   "metadata": {
    "colab": {
     "base_uri": "https://localhost:8080/",
     "height": 294
    },
    "id": "tpvi8glyKhdb",
    "outputId": "3e99c55f-9077-49d2-c578-a6abd738ed28"
   },
   "outputs": [
    {
     "data": {
      "image/png": "[encoded data removed]",
      "text/plain": [
       "<Figure size 432x288 with 1 Axes>"
      ]
     },
     "metadata": {
      "needs_background": "light",
      "tags": []
     },
     "output_type": "display_data"
    }
   ],
   "source": [
    "test_x_predictions = lstm_ae.predict(x_test_scaled)\n",
    "mse = np.mean(np.power(flatten(x_test_scaled) - flatten(test_x_predictions), 2), axis=1)\n",
    "\n",
    "error_df = pd.DataFrame({'Reconstruction_error': mse,\n",
    "                         'True_class': y_test.tolist()})\n",
    "\n",
    "groups = error_df.groupby('True_class')\n",
    "fig, ax = plt.subplots()\n",
    "\n",
    "for name, group in groups:\n",
    "    ax.plot(group.index, group.Reconstruction_error, marker='o', ms=3.5, linestyle='',\n",
    "            label= \"Break\" if name == 1 else \"Normal\")\n",
    "ax.hlines(threshold_fixed, ax.get_xlim()[0], ax.get_xlim()[1], colors=\"r\", zorder=100, label='Threshold')\n",
    "ax.legend()\n",
    "plt.title(\"Reconstruction error for different classes\")\n",
    "plt.ylabel(\"Reconstruction error\")\n",
    "plt.xlabel(\"Data point index\")\n",
    "plt.show();"
   ]
  },
  {
   "cell_type": "markdown",
   "metadata": {
    "id": "GSwUzKewMfUW"
   },
   "source": [
    "## 10. Evaluation\n",
    "confusion matrix\n",
    "테스트 셋에 대한 재구성 손실을 threshold를 기준으로 0/1로 나누고 이를 confusion matrix로 표현하였다.\n",
    "Break에 대한 예측 결과가 실망스러울 수 있지만 이렇게 Sheet Break의 10%만 줄여도 엄청난 손실을 줄일 수 있다고 한다."
   ]
  },
  {
   "cell_type": "markdown",
   "metadata": {
    "id": "3oGmEOHCNYbN"
   },
   "source": [
    "### confusion matrix\n"
   ]
  },
  {
   "cell_type": "code",
   "execution_count": 36,
   "metadata": {
    "colab": {
     "base_uri": "https://localhost:8080/",
     "height": 457
    },
    "id": "ACYg5u_dLOpN",
    "outputId": "51a702af-4cfb-4218-d5f9-304414ace2dc"
   },
   "outputs": [
    {
     "data": {
      "image/png": "[encoded data removed]",
      "text/plain": [
       "<Figure size 504x504 with 2 Axes>"
      ]
     },
     "metadata": {
      "needs_background": "light",
      "tags": []
     },
     "output_type": "display_data"
    }
   ],
   "source": [
    "# classification by threshold\n",
    "pred_y = [1 if e > threshold_fixed else 0 for e in error_df['Reconstruction_error'].values]\n",
    "\n",
    "conf_matrix = metrics.confusion_matrix(error_df['True_class'], pred_y)\n",
    "plt.figure(figsize=(7, 7))\n",
    "sns.heatmap(conf_matrix, xticklabels=LABELS, yticklabels=LABELS, annot=True, fmt='d')\n",
    "plt.title('Confusion Matrix')\n",
    "plt.xlabel('Predicted Class'); plt.ylabel('True Class')\n",
    "plt.show()"
   ]
  },
  {
   "cell_type": "markdown",
   "metadata": {
    "id": "z6_3yZkBNcPQ"
   },
   "source": [
    "### AUC curve"
   ]
  },
  {
   "cell_type": "code",
   "execution_count": 37,
   "metadata": {
    "colab": {
     "base_uri": "https://localhost:8080/",
     "height": 294
    },
    "id": "UszyZH_vNKji",
    "outputId": "1a6cf4f5-3dff-419f-8ad5-02c3a8c56669"
   },
   "outputs": [
    {
     "data": {
      "image/png": "[encoded data removed]",
      "text/plain": [
       "<Figure size 432x288 with 1 Axes>"
      ]
     },
     "metadata": {
      "needs_background": "light",
      "tags": []
     },
     "output_type": "display_data"
    }
   ],
   "source": [
    "false_pos_rate, true_pos_rate, thresholds = metrics.roc_curve(error_df['True_class'], error_df['Reconstruction_error'])\n",
    "roc_auc = metrics.auc(false_pos_rate, true_pos_rate,)\n",
    "\n",
    "plt.plot(false_pos_rate, true_pos_rate, linewidth=5, label='AUC = %0.3f'% roc_auc)\n",
    "plt.plot([0,1],[0,1], linewidth=5)\n",
    "\n",
    "plt.xlim([-0.01, 1])\n",
    "plt.ylim([0, 1.01])\n",
    "plt.legend(loc='lower right')\n",
    "plt.title('Receiver operating characteristic curve (ROC)')\n",
    "plt.ylabel('True Positive Rate'); plt.xlabel('False Positive Rate')\n",
    "plt.show()"
   ]
  },
  {
   "cell_type": "markdown",
   "metadata": {
    "id": "lv54V4iUQarK"
   },
   "source": [
    "### 최종 정확도"
   ]
  },
  {
   "cell_type": "code",
   "execution_count": 41,
   "metadata": {
    "colab": {
     "base_uri": "https://localhost:8080/"
    },
    "id": "SczYad3CNk1L",
    "outputId": "20ca6630-ae09-45d7-8825-330c71dd8910"
   },
   "outputs": [
    {
     "name": "stdout",
     "output_type": "stream",
     "text": [
      "전체 Test case: 8685, 실종이 된 경우: 429\n",
      "model accuracy(모델의 전체 예측 정확도): 91.45653425446172%\n",
      "true prediction(실제 실종 대비 실종을 예측한 비율): 5.157593123209169%\n"
     ]
    }
   ],
   "source": [
    "count = 0\n",
    "real_equal = 0\n",
    "true_label_count = 0\n",
    "pred_y_count = 0\n",
    "for i in range(0, len(y_test)):\n",
    "  if y_test[i] == pred_y[i]:\n",
    "    count += 1\n",
    "    if y_test[i] == 1:\n",
    "      real_equal += 1\n",
    "  if y_test[i] == 1:\n",
    "    true_label_count += 1\n",
    "  if pred_y[i] == 1:\n",
    "    pred_y_count += 1\n",
    "\n",
    "print(\"전체 Test case: {}, 실종이 된 경우: {}\".format(len(y_test),pred_y_count))\n",
    "print('model accuracy(모델의 전체 예측 정확도): {}%'.format((count/len(y_test)) * 100))\n",
    "print('true prediction(실제 실종 대비 실종을 예측한 비율): {}%'.format((real_equal/true_label_count) * 100))"
   ]
  },
  {
   "cell_type": "code",
   "execution_count": 38,
   "metadata": {
    "id": "RNmhYAP-d13S"
   },
   "outputs": [],
   "source": []
  }
 ],
 "metadata": {
  "colab": {
   "collapsed_sections": [],
   "name": "LSTM.ipynb",
   "provenance": []
  },
  "kernelspec": {
   "display_name": "Python 3",
   "language": "python",
   "name": "python3"
  },
  "language_info": {
   "codemirror_mode": {
    "name": "ipython",
    "version": 3
   },
   "file_extension": ".py",
   "mimetype": "text/x-python",
   "name": "python",
   "nbconvert_exporter": "python",
   "pygments_lexer": "ipython3",
   "version": "3.8.3"
  }
 },
 "nbformat": 4,
 "nbformat_minor": 1
}
